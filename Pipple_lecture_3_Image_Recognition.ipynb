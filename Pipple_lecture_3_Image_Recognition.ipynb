{
  "nbformat": 4,
  "nbformat_minor": 0,
  "metadata": {
    "colab": {
      "name": "Pipple lecture #3 - Image Recognition.ipynb",
      "version": "0.3.2",
      "provenance": [],
      "collapsed_sections": []
    },
    "kernelspec": {
      "name": "python3",
      "display_name": "Python 3"
    },
    "accelerator": "GPU"
  },
  "cells": [
    {
      "metadata": {
        "id": "CK3qDmsgZbl8",
        "colab_type": "text"
      },
      "cell_type": "markdown",
      "source": [
        "**Pipple lecture #3 - Image Recognition**\n",
        "\n",
        "Beste Pippelaars,\n",
        "\n",
        "Dit notebook zal door de basis functionaliteiten van keras voor het bouwen en trainen van Convolutional Neural Networks (CNNs) lopen. Het is opgebouwd voor gebruik in  Google Colaboratory: een gratis omgeving waar je kan gebruik maken van de servers van Google. \n",
        "\n",
        "De omgeving zal voor de meeste herkenbaar zijn, het is namelijk gebouwd op Jupyter Notebook. Het verschil is dat Google Colaboratory is geoptimaliseerd voor het gebruik i.c.m. met andere Google Services (e.g. drive). \n",
        "\n",
        "**Inschakelen GPU**\n",
        "\n",
        "Google Colaboratory beschikt de functie om op een GPU server te draaien, wat het trainen van CNNs enorm versneld (https://www.quora.com/Why-are-GPUs-well-suited-to-deep-learning) . Om deze functie in te schakelen doe je het volgende in het menu:\n",
        "\n",
        "Runtime -> Change runtime type -> Hardware accelerator: GPU\n",
        "\n",
        "Druk nu op “connect” rechtsboven in de hoek, de notebook draait nu op een GPU server van Google!\n",
        "\n",
        "In het Runtime menu vind je ook verder info over het restarten, resetten en runnen van de notebook (inclusief shortcuts)\n",
        "\n",
        "**Inhoudsopgave**\n",
        "\n",
        "\n",
        "1.   Loading the images \n",
        "2.   Image Data Generators\n",
        "3.   CNN as feature extractor\n",
        "4.   Training a CNN\n",
        "5.    Challenge\n",
        "\n",
        "\n",
        "\n",
        "\n",
        "\n"
      ]
    },
    {
      "metadata": {
        "id": "nbwBbO7LGOIT",
        "colab_type": "text"
      },
      "cell_type": "markdown",
      "source": [
        "\n",
        "\n",
        "---\n",
        "\n",
        "\n",
        "**1. Inladen data**\n",
        "\n",
        "\n",
        "Bij het gebruik maken van Keras is het belangrijk dat je de data in de juiste structuur aanlevert (dit hebben wij al voor jullie gedaan voor deze tutorial). Dit is te zien in de volgende afbeelding:\n",
        "\n",
        "![alt text](https://cdn-images-1.medium.com/max/800/1*HpvpA9pBJXKxaPCl5tKnLg.jpeg)\n",
        "\n",
        "\n",
        "Voor deze tutorial is de data set als .zip file geupload op Github. Deze kun je ophalen en uitpakken door de volgende code uit te voeren:\n"
      ]
    },
    {
      "metadata": {
        "id": "1bkYxvqyMZZT",
        "colab_type": "code",
        "colab": {}
      },
      "cell_type": "code",
      "source": [
        "!git clone https://github.com/bartvandriel/pipple_lecture.git\n",
        "import zipfile\n",
        "\n",
        "#path to zip\n",
        "local_zip = 'pipple_lecture/UC_merced_train.zip' \n",
        "\n",
        "#extract zip file\n",
        "zip_ref = zipfile.ZipFile(local_zip, 'r')\n",
        "zip_ref.extractall('/tmp')\n",
        "zip_ref.close()\n",
        "\n",
        "import os\n",
        "\n",
        "base_dir = '/tmp/' + 'UC_merced_train'\n",
        "\n",
        "#data directories\n",
        "train_dir = os.path.join(base_dir, 'train')\n",
        "validation_dir = os.path.join(base_dir, 'validation')"
      ],
      "execution_count": 0,
      "outputs": []
    },
    {
      "metadata": {
        "id": "kjOq4lTWQd73",
        "colab_type": "text"
      },
      "cell_type": "markdown",
      "source": [
        "De bestanden worden in de /tmp/ directory geplaatst. \n",
        "\n",
        "\n",
        "\n",
        "*  De data set is opgesplitst in een training en validatie set. \n",
        "*  Er zijn 21 verschillende classes\n",
        "* In de training set zijn er 60 afbeelding per class en in de validatie set 20 afbeelding per class\n",
        "\n",
        "(data set source: http://weegee.vision.ucmerced.edu/datasets/landuse.html)\n"
      ]
    },
    {
      "metadata": {
        "id": "6__VAtjQM_0Z",
        "colab_type": "code",
        "colab": {}
      },
      "cell_type": "code",
      "source": [
        "!ls '/tmp/UC_merced_train'"
      ],
      "execution_count": 0,
      "outputs": []
    },
    {
      "metadata": {
        "id": "vE01TvcgQz96",
        "colab_type": "code",
        "colab": {}
      },
      "cell_type": "code",
      "source": [
        "!ls '/tmp/UC_merced_train/train'"
      ],
      "execution_count": 0,
      "outputs": []
    },
    {
      "metadata": {
        "id": "i1sNtveIQ6HE",
        "colab_type": "code",
        "colab": {}
      },
      "cell_type": "code",
      "source": [
        "!ls '/tmp/UC_merced_train/train/agricultural'"
      ],
      "execution_count": 0,
      "outputs": []
    },
    {
      "metadata": {
        "id": "NSzyTkwfR8dh",
        "colab_type": "text"
      },
      "cell_type": "markdown",
      "source": [
        "\n",
        "\n",
        "---\n",
        "\n",
        "\n",
        "**2. Image Data Generators**"
      ]
    },
    {
      "metadata": {
        "id": "9s7-bxbeSNQG",
        "colab_type": "text"
      },
      "cell_type": "markdown",
      "source": [
        "Het direct inladen van grote hoeveelheden afbeeldingen in het werkgeheugen zorgt al snel voor problemen. Om dit te voorkomen heeft keras een aantal slimme functies en classes.\n",
        "\n",
        "In plaats van het vooraf inladen van afbeeldingen bevat de  *ImageDataGenerator* class functies waarmee we de afbeeldingen inladen vanuit de directories op het moment dat het nodig is.\n",
        "\n",
        "In het kort: een *ImageDataGenerator* object genereert zogenaamde batches van afbeeldingen. Daarbij kan je een hoop functies toevoegen m.b.t. data pre-processing en augmentation. \n",
        "\n",
        "Meer informatie: https://keras.io/preprocessing/image/#imagedatagenerator-class"
      ]
    },
    {
      "metadata": {
        "id": "2CZJBz2YZ0Mb",
        "colab_type": "code",
        "colab": {}
      },
      "cell_type": "code",
      "source": [
        "from keras.preprocessing.image import ImageDataGenerator\n",
        "from keras.applications.vgg16 import preprocess_input\n",
        "import numpy as np\n",
        "\n",
        "seed = 42\n",
        "\n",
        "train_datagen = ImageDataGenerator(\n",
        "    preprocessing_function=preprocess_input, #Belangrijk om de juiste pre-processing functie gebruiken bij verschillende netwerken!\n",
        "    #Hier je kan data augmentatie parameters toevoegen. Kijk in de link hierboven voor de opties\n",
        ")\n",
        "\n",
        "# Note that the validation and test data should not be augmented!\n",
        "val_datagen = ImageDataGenerator(preprocessing_function=preprocess_input)\n",
        "\n",
        "# Flow training images in batches using train_datagen generator\n",
        "train_generator = train_datagen.flow_from_directory(\n",
        "      train_dir,  # This is the source directory for training images\n",
        "      target_size=(224, 224), #target size for CNN, depends on which network is used\n",
        "      batch_size=20, #batch size, maximum depends on GPU memory\n",
        "      class_mode='sparse',  #labels worden gegeven als integer nummer \n",
        "      shuffle=True, #shuffle all samples, important to do at training. \n",
        "      seed=seed  # voor reproduceerbaarheid\n",
        ")\n",
        "\n",
        "# Flow validation images in batches using validation_generator\n",
        "validation_generator = val_datagen.flow_from_directory(\n",
        "      validation_dir, \n",
        "      target_size=(224, 224),\n",
        "      batch_size=20,\n",
        "      class_mode='sparse',\n",
        "      shuffle=False, \n",
        "      seed=seed) \n",
        "\n"
      ],
      "execution_count": 0,
      "outputs": []
    },
    {
      "metadata": {
        "id": "ehXJVqmkU1dY",
        "colab_type": "text"
      },
      "cell_type": "markdown",
      "source": [
        "Door de functie .next() aan te roepen genereert   `ImageDataGenerator`  een batch afbeeldingen. Hieronder wat voorbeelden om wat inzicht te geven hoe deze data eruit ziet. "
      ]
    },
    {
      "metadata": {
        "id": "fgH6dgumdPw_",
        "colab_type": "code",
        "colab": {}
      },
      "cell_type": "code",
      "source": [
        "demo_datagen = ImageDataGenerator()\n",
        "demo_generator = demo_datagen.flow_from_directory(\n",
        "      train_dir,  \n",
        "      batch_size=10, \n",
        "      class_mode='sparse', \n",
        "      shuffle=True,\n",
        "      seed=143\n",
        ")\n",
        "\n",
        "images, labels = demo_generator.next()"
      ],
      "execution_count": 0,
      "outputs": []
    },
    {
      "metadata": {
        "id": "1UZphrbTVRhT",
        "colab_type": "text"
      },
      "cell_type": "markdown",
      "source": [
        "Een afbeelding wordt ingeladen als numpy array met groote (pixel_height, pixel_width, channels). Waar channels normaal gesproken 3 is, een channel voor iedere kleur (Rood, Groen, Blauw -> RGB) \n"
      ]
    },
    {
      "metadata": {
        "id": "GfJcZqA6XMyd",
        "colab_type": "code",
        "colab": {}
      },
      "cell_type": "code",
      "source": [
        "images.shape"
      ],
      "execution_count": 0,
      "outputs": []
    },
    {
      "metadata": {
        "id": "xXDTCdkbe4Zk",
        "colab_type": "text"
      },
      "cell_type": "markdown",
      "source": [
        "De labels worden omgezet tot een nummer. Meer informatie kan je opvragen door de volgende code:"
      ]
    },
    {
      "metadata": {
        "id": "T0smLtahUYWZ",
        "colab_type": "code",
        "colab": {}
      },
      "cell_type": "code",
      "source": [
        "labels"
      ],
      "execution_count": 0,
      "outputs": []
    },
    {
      "metadata": {
        "id": "oU5dWekiXkq_",
        "colab_type": "code",
        "colab": {}
      },
      "cell_type": "code",
      "source": [
        "demo_generator.class_indices"
      ],
      "execution_count": 0,
      "outputs": []
    },
    {
      "metadata": {
        "id": "6bllKXjjfI26",
        "colab_type": "text"
      },
      "cell_type": "markdown",
      "source": [
        "En de data kan je natuurlijk ook gewoon plotten als afbeelding!"
      ]
    },
    {
      "metadata": {
        "id": "yVcVZwVYdx_E",
        "colab_type": "code",
        "colab": {}
      },
      "cell_type": "code",
      "source": [
        "import matplotlib.pyplot as plt\n",
        "\n",
        "plt.figure(figsize=(25, 10))\n",
        "for i, image in enumerate(images, 1):\n",
        "  plt.subplot(2, 5, i)  \n",
        "  plt.grid(False)\n",
        "  plt.title(list(demo_generator.class_indices)[int(labels[i-1])])\n",
        "  plt.axis('off')\n",
        "  plt.imshow(image/255)"
      ],
      "execution_count": 0,
      "outputs": []
    },
    {
      "metadata": {
        "id": "7WwCR2T_YCZr",
        "colab_type": "text"
      },
      "cell_type": "markdown",
      "source": [
        "\n",
        "\n",
        "---\n",
        "\n",
        "\n",
        "**3. CNN as feature extractor **\n",
        "\n",
        "Keras beschikt over verschillende pre-trained CNNs die je kunt trainen, fine-tunen of gebruiken als feature extractors. \n",
        "In dit deel zullen we een keras model gebruiken als feature extractor waarna we een SVM trainen. \n",
        "\n",
        "Meer voorbeelden en toepassingen te vinden op: https://keras.io/applications/\n",
        "\n",
        "\n",
        "Het model dat we gebruiken is VGG16 en is getraind op ImageNet."
      ]
    },
    {
      "metadata": {
        "id": "B0lpg-vrHuhX",
        "colab_type": "code",
        "colab": {}
      },
      "cell_type": "code",
      "source": [
        "from keras.applications.vgg16 import VGG16\n",
        "from keras.models import Model\n",
        "\n",
        "#Load full VGG-16 architecture with imagenet weights\n",
        "base_model  = VGG16(weights='imagenet', include_top=True)\n",
        "\n",
        "#Remove top layer which is resonsible for class predictions \n",
        "model= Model(inputs=base_model.input, outputs=base_model.get_layer('fc2').output)\n",
        "\n",
        "#show summary\n",
        "model.summary()"
      ],
      "execution_count": 0,
      "outputs": []
    },
    {
      "metadata": {
        "id": "m3l4H1C_mFe6",
        "colab_type": "text"
      },
      "cell_type": "markdown",
      "source": [
        "Genereer features\n",
        "\n",
        "(ps. de volgende loop is niet de meest elegante oplossing. Een andere/betere oplossing zou zijn om predict_generator te gebruiken, hiervan volgt later een voorbeeld)"
      ]
    },
    {
      "metadata": {
        "id": "rp40pj8GmCF1",
        "colab_type": "code",
        "colab": {}
      },
      "cell_type": "code",
      "source": [
        "x_train = []\n",
        "y_train = []\n",
        "\n",
        "#loop over all images\n",
        "for i in range (int(train_generator.samples/train_generator.batch_size)):\n",
        "  #train_generator.samples gives the number of samples in the train set\n",
        "  #train_generator.batch_size gives the batch size of the generator\n",
        "  \n",
        "  #get batch of images\n",
        "  images, labels = train_generator.next()\n",
        "  #generate features\n",
        "  images = model.predict(images)\n",
        "  \n",
        "  #add images and labels to lists\n",
        "  for image, label in zip(images, labels):\n",
        "    \n",
        "    x_train.append(image)\n",
        "    y_train.append(label)\n",
        "\n",
        "#Convert back to numpy array\n",
        "x_train = np.asarray(x_train)\n",
        "y_train = np.asarray(y_train)\n",
        "\n",
        "x_val = []\n",
        "y_val = []\n",
        "\n",
        "for i in range (int(validation_generator.samples/validation_generator.batch_size)):\n",
        "\n",
        "  images, labels = validation_generator.next()\n",
        "  images = model.predict(images)\n",
        "  \n",
        "  for image, label in zip(images, labels):\n",
        "    \n",
        "    x_val.append(image)\n",
        "    y_val.append(label)\n",
        "    \n",
        "x_val = np.asarray(x_val)\n",
        "y_val = np.asarray(y_val)"
      ],
      "execution_count": 0,
      "outputs": []
    },
    {
      "metadata": {
        "id": "TJG5a3yEN_Ek",
        "colab_type": "code",
        "colab": {}
      },
      "cell_type": "code",
      "source": [
        "print(x_train.shape, y_train.shape, x_val.shape, y_val.shape)"
      ],
      "execution_count": 0,
      "outputs": []
    },
    {
      "metadata": {
        "id": "XuJPwlcuyqif",
        "colab_type": "text"
      },
      "cell_type": "markdown",
      "source": [
        "Iedere afbeelding wordt omgezet in een feature van groote 4096 (even groot als de laatste layer van het model).\n",
        "Er zitten 1260 afbeeldingen in de train set en 420 in de validatie set. \n"
      ]
    },
    {
      "metadata": {
        "id": "3GjvdraWqc_y",
        "colab_type": "text"
      },
      "cell_type": "markdown",
      "source": [
        "Train svm op de features"
      ]
    },
    {
      "metadata": {
        "id": "1kExQHbSqYsO",
        "colab_type": "code",
        "colab": {}
      },
      "cell_type": "code",
      "source": [
        "from sklearn.svm import LinearSVC\n",
        "\n",
        "clf = LinearSVC(max_iter=3000)\n",
        "clf.fit(x_train, y_train)\n"
      ],
      "execution_count": 0,
      "outputs": []
    },
    {
      "metadata": {
        "id": "7Pm8SzIWrWvB",
        "colab_type": "text"
      },
      "cell_type": "markdown",
      "source": [
        "Evalueer het netwerk met de validatie data "
      ]
    },
    {
      "metadata": {
        "id": "QEw8Oh_Zqws3",
        "colab_type": "code",
        "colab": {}
      },
      "cell_type": "code",
      "source": [
        "y_pred = clf.predict(x_val)"
      ],
      "execution_count": 0,
      "outputs": []
    },
    {
      "metadata": {
        "id": "fMqeLhXFq1I2",
        "colab_type": "code",
        "colab": {}
      },
      "cell_type": "code",
      "source": [
        "from sklearn.metrics import classification_report\n",
        "\n",
        "print(classification_report(y_val, y_pred, target_names=list(validation_generator.class_indices)))\n",
        "\n",
        "print('accuracy: ', np.mean(y_val == y_pred))"
      ],
      "execution_count": 0,
      "outputs": []
    },
    {
      "metadata": {
        "id": "OqBb-CxBbJFi",
        "colab_type": "text"
      },
      "cell_type": "markdown",
      "source": [
        "**4. Training a CNN**"
      ]
    },
    {
      "metadata": {
        "id": "9CUmFlKDfuIx",
        "colab_type": "text"
      },
      "cell_type": "markdown",
      "source": [
        "Nu is het tijd om een pre-trained CNN te fine-tunen op de nieuwe data set. We gebruiken hiervoor hetzelfde netwerk als in de vorige stap: VGG16. Het verschil is nu dat we de bovenste layers niet gebruiken. In de plaats hiervan zetten wij hier nieuwe layers op (met random weights). \n",
        "Het opbouwen van een dergelijk model is te zien in de volgende code. \n",
        "\n",
        "(ps. de nieuwe layers die we er op zetten zijn niet hetzelfde als de layers in het oorspronkelijke model, dit om het trainen te versnellen)\n",
        "\n",
        "https://keras.io/layers/about-keras-layers/ (kijk in de sidebar voor alle layers!)"
      ]
    },
    {
      "metadata": {
        "id": "wf8RMUQ3V7g7",
        "colab_type": "code",
        "colab": {}
      },
      "cell_type": "code",
      "source": [
        "from keras.layers import Dense, GlobalAveragePooling2D\n",
        "\n",
        "base_model = VGG16(weights='imagenet', include_top=False, input_shape=(224, 224, 3)) #laad VGG16 model in met weights, maar zonder bovenste lagen\n",
        "\n",
        "#Add new layers\n",
        "\n",
        "#base_model\n",
        "x = base_model.output \n",
        "#add GAP layer\n",
        "x = GlobalAveragePooling2D(name='GAP')(x)\n",
        "#add Dense layer\n",
        "x = Dense(1024, activation='relu', name='fc1_new')(x)\n",
        "#add Dense layer\n",
        "x = Dense(1024, activation='relu', name='fc2_new')(x)\n",
        "#add final classification layer where size is equal to the number of classes\n",
        "predictions = Dense(train_generator.num_classes, activation='softmax', name='predictions_new')(x)\n",
        "\n",
        "model = Model(inputs=base_model.input, outputs=predictions)"
      ],
      "execution_count": 0,
      "outputs": []
    },
    {
      "metadata": {
        "id": "ck4hUrVIXq3Z",
        "colab_type": "text"
      },
      "cell_type": "markdown",
      "source": [
        "We kiezen ervoor om de eerste 10 lagen van het model te *freezen*.  Het freezen van layers helpt tegen overfitting en versnelt het trainen. \n",
        "Dit kan op de volgende manier:"
      ]
    },
    {
      "metadata": {
        "id": "TSVFWoYqW3lL",
        "colab_type": "code",
        "colab": {}
      },
      "cell_type": "code",
      "source": [
        "for layer in model.layers[:10]:\n",
        "  layer.trainable = False\n",
        "\n",
        "for i, layer in enumerate(model.layers):\n",
        "  print(i, layer.name, layer.trainable)"
      ],
      "execution_count": 0,
      "outputs": []
    },
    {
      "metadata": {
        "id": "4WPLCZ-YWnOW",
        "colab_type": "text"
      },
      "cell_type": "markdown",
      "source": [
        "Voor een model kan worden getraind moeten we het een tweetal parameters meegeven, dit doen we door het model te 'compilen'.\n",
        "\n",
        "\n",
        "*   *loss*: de loss functie bepaalt het verschil tussen de voorspellingen van het model, en de werkelijke waardes \n",
        "*  *optimizer*: dit is het algortihme dat daadwerkelijk de weights optimaliseerd. De bekendste optie is Stochastic Gradient Descent\n",
        "\n",
        "\n",
        "\n",
        "\n",
        "Voor meer informatie en mogelijkheden:\n",
        "\n",
        "https://keras.io/models/sequential/\n",
        "\n",
        "\n",
        "https://keras.io/optimizers/\n",
        "\n",
        "\n",
        "https://keras.io/losses/"
      ]
    },
    {
      "metadata": {
        "id": "4TH_PUErXy6e",
        "colab_type": "code",
        "colab": {}
      },
      "cell_type": "code",
      "source": [
        "from keras.optimizers import SGD\n",
        "\n",
        "model.compile(loss='sparse_categorical_crossentropy', #Loss function\n",
        "              optimizer= SGD(lr=0.001), #Optimizer\n",
        "              metrics=['acc']) #Metrics to show during training"
      ],
      "execution_count": 0,
      "outputs": []
    },
    {
      "metadata": {
        "id": "aCjhNV74jZO8",
        "colab_type": "text"
      },
      "cell_type": "markdown",
      "source": [
        "Nu alle parameters zijn ingesteld. Kan het model worden getraind. Dit kan door middel van middel van .fit_generator.\n",
        "Belangrijke parameters:\n",
        "\n",
        "\n",
        "\n",
        "*   *epochs*: aantal iteraties dat het model wordt getraind\n",
        "*   *steps_per_epoch*: het aantal batches  afbeeldingen per epoch dat aan het model wordt gegeven om te trainen \n",
        "\n",
        "voor meer informatie en opties:\n",
        "\n",
        "https://keras.io/models/sequential/\n",
        "\n"
      ]
    },
    {
      "metadata": {
        "id": "9P2l-S0sZUPi",
        "colab_type": "code",
        "colab": {}
      },
      "cell_type": "code",
      "source": [
        "training_history = model.fit_generator(train_generator, #generator for train data\n",
        "                                   epochs=5, #trainings epochs\n",
        "                                   steps_per_epoch=train_generator.samples/train_generator.batch_size, #steps per epoch, in each step the model is trained on a batch of images\n",
        "                                   verbose=1, #print progress \n",
        "                                   validation_data=validation_generator, #generator for validation data\n",
        "                                   validation_steps=validation_generator.samples/validation_generator.batch_size,\n",
        "                                   )"
      ],
      "execution_count": 0,
      "outputs": []
    },
    {
      "metadata": {
        "id": "RUJkzYgLkrwF",
        "colab_type": "text"
      },
      "cell_type": "markdown",
      "source": [
        "Genereer predictions voor alle afbeeldingen in de validatie set"
      ]
    },
    {
      "metadata": {
        "id": "uaSiM7NkbkxF",
        "colab_type": "code",
        "colab": {}
      },
      "cell_type": "code",
      "source": [
        "validation_generator.reset()\n",
        "\n",
        "y_val = []\n",
        "y_pred = []\n",
        "\n",
        "for i in range (int(validation_generator.samples/validation_generator.batch_size)):\n",
        "\n",
        "  images, labels = validation_generator.next()\n",
        "  predictions = model.predict(images)\n",
        "  \n",
        "  #model.predict geeft een numpy array van grootte [n_images, n_classes]. \n",
        "  #waar iedere rij de kansen geeft dat een afbeelding bij de specifieke classes horen\n",
        "  \n",
        "  \n",
        "  predictions = np.argmax(predictions, axis=1) \n",
        "  \n",
        "  for label, pred in zip(labels, predictions):\n",
        "    y_val.append(label)\n",
        "    y_pred.append(pred)\n",
        "    \n",
        "y_val = np.asarray(y_val)\n",
        "y_pred = np.asarray(y_pred)"
      ],
      "execution_count": 0,
      "outputs": []
    },
    {
      "metadata": {
        "id": "KQDagl7bk0sH",
        "colab_type": "text"
      },
      "cell_type": "markdown",
      "source": [
        "evaluatie"
      ]
    },
    {
      "metadata": {
        "id": "tHVHwnYVc45X",
        "colab_type": "code",
        "colab": {}
      },
      "cell_type": "code",
      "source": [
        "from sklearn.metrics import classification_report\n",
        "\n",
        "print(classification_report(y_val, y_pred, target_names=list(validation_generator.class_indices)))\n",
        "\n",
        "print('accuracy: ', np.mean(y_val == y_pred))"
      ],
      "execution_count": 0,
      "outputs": []
    },
    {
      "metadata": {
        "id": "PgTVPo0yTXmj",
        "colab_type": "text"
      },
      "cell_type": "markdown",
      "source": [
        "Voorbeeld gebruik `predict_generator` (https://keras.io/models/sequential/#predict_generator)"
      ]
    },
    {
      "metadata": {
        "id": "TBF92THNRA0z",
        "colab_type": "code",
        "colab": {}
      },
      "cell_type": "code",
      "source": [
        "validation_generator.reset()\n",
        "\n",
        "predictions = model.predict_generator(validation_generator, steps=validation_generator.samples/validation_generator.batch_size, verbose=0)\n",
        "print(predictions.shape)\n",
        "\n",
        "predictions = np.argmax(predictions, axis=1) \n",
        "\n",
        "#validation_generator.classes geeft alle labels van de validatie set.\n",
        "print('accuracy: ', np.mean(validation_generator.classes == predictions))"
      ],
      "execution_count": 0,
      "outputs": []
    },
    {
      "metadata": {
        "id": "45SjTLw52duq",
        "colab_type": "text"
      },
      "cell_type": "markdown",
      "source": [
        "**5. Challenge**\n",
        "\n",
        "Nu is het aan jullie om een zo goed mogelijk classificatie model te bouwen. Wij hebben alvast een opzet gemaakt in een andere notebook. Later op de avond zullen wij jullie de URL geven naar de test set om het model te evalueren.\n",
        "\n",
        "# [Link naar de challenge](https://colab.research.google.com/drive/1PgBZLGbkJlRwvNK01eEUCWMw2AAa5d0u)\n",
        "\n"
      ]
    }
  ]
}