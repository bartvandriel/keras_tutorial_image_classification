{
  "nbformat": 4,
  "nbformat_minor": 0,
  "metadata": {
    "colab": {
      "name": "Pipple lecture #3 - Challenge.ipynb",
      "version": "0.3.2",
      "provenance": [],
      "include_colab_link": true
    },
    "kernelspec": {
      "name": "python3",
      "display_name": "Python 3"
    }
  },
  "cells": [
    {
      "cell_type": "markdown",
      "metadata": {
        "id": "view-in-github",
        "colab_type": "text"
      },
      "source": [
        "<a href=\"https://colab.research.google.com/github/bartvandriel/pipple_lecture/blob/master/Pipple_lecture_3_Challenge.ipynb\" target=\"_parent\"><img src=\"https://colab.research.google.com/assets/colab-badge.svg\" alt=\"Open In Colab\"/></a>"
      ]
    },
    {
      "metadata": {
        "id": "WBhLoVfTZAsj",
        "colab_type": "text"
      },
      "cell_type": "markdown",
      "source": [
        "**Reset** voor dat je hier in begint! (Runtime -> Reset all runtimes)"
      ]
    },
    {
      "metadata": {
        "id": "AQWuFdcwkgdS",
        "colab_type": "text"
      },
      "cell_type": "markdown",
      "source": [
        "**DATA INLADEN**"
      ]
    },
    {
      "metadata": {
        "id": "R-segxvmYkjZ",
        "colab_type": "code",
        "colab": {}
      },
      "cell_type": "code",
      "source": [
        "!git clone https://github.com/bartvandriel/pipple_lecture.git\n",
        "import zipfile\n",
        "\n",
        "#path to zip\n",
        "local_zip = 'pipple_lecture/UC_merced_train.zip' \n",
        "\n",
        "#extract zip file\n",
        "zip_ref = zipfile.ZipFile(local_zip, 'r')\n",
        "zip_ref.extractall('/tmp')\n",
        "zip_ref.close()\n",
        "\n",
        "import os\n",
        "\n",
        "base_dir = '/tmp/' + 'UC_merced_train'\n",
        "\n",
        "#data directories\n",
        "train_dir = os.path.join(base_dir, 'train')\n",
        "validation_dir = os.path.join(base_dir, 'validation')"
      ],
      "execution_count": 0,
      "outputs": []
    },
    {
      "metadata": {
        "id": "xiwdHX85kkQG",
        "colab_type": "text"
      },
      "cell_type": "markdown",
      "source": [
        "**IMAGE DATA GENERATORS**"
      ]
    },
    {
      "metadata": {
        "id": "LGfvdSRZY80l",
        "colab_type": "code",
        "colab": {}
      },
      "cell_type": "code",
      "source": [
        "from keras.preprocessing.image import ImageDataGenerator\n",
        "from keras.applications.vgg16 import preprocess_input\n",
        "import numpy as np\n",
        "\n",
        "\n",
        "train_datagen = ImageDataGenerator(\n",
        "    preprocessing_function=preprocess_input,\n",
        "    #Hier kan data augmentatie parameters toevoegen. \n",
        ")\n",
        "\n",
        "# Note that the validation and test data should not be augmented!\n",
        "val_datagen = ImageDataGenerator(preprocessing_function=preprocess_input)\n",
        "\n",
        "# Flow training images in batches using train_datagen generator\n",
        "train_generator = train_datagen.flow_from_directory(\n",
        "      train_dir,  # This is the source directory for training images\n",
        "      target_size=(224, 224), #target size for CNN, depends on which network is used\n",
        "      batch_size=10, #batch size, maximum depends on GPU memory\n",
        "      class_mode='sparse',  \n",
        "      shuffle=True \n",
        ")\n",
        "\n",
        "# Flow validation images in batches using validation_generator\n",
        "validation_generator = val_datagen.flow_from_directory(\n",
        "      validation_dir, \n",
        "      target_size=(224, 224),\n",
        "      batch_size=10,\n",
        "      class_mode='sparse',\n",
        "      shuffle=False)"
      ],
      "execution_count": 0,
      "outputs": []
    },
    {
      "metadata": {
        "id": "8msUpVHkkq14",
        "colab_type": "text"
      },
      "cell_type": "markdown",
      "source": [
        "**MODELLING**"
      ]
    },
    {
      "metadata": {
        "id": "uJwf_XfSkpwY",
        "colab_type": "code",
        "colab": {}
      },
      "cell_type": "code",
      "source": [
        "\n",
        "\n",
        "\n",
        "\n",
        "\n",
        "\n",
        "\n",
        "\n",
        "\n"
      ],
      "execution_count": 0,
      "outputs": []
    },
    {
      "metadata": {
        "id": "-qgYXHumZU4F",
        "colab_type": "text"
      },
      "cell_type": "markdown",
      "source": [
        "\n",
        "\n",
        "---\n",
        "\n",
        "**EVALUATION**\n",
        "\n",
        "Evaluatie op test set\n",
        "\n",
        "Het is belangrijk dat de parameters van `test_generator` gelijk zijn aan `validation_generator`. \n",
        "\n"
      ]
    },
    {
      "metadata": {
        "id": "09kFRqlYZWme",
        "colab_type": "code",
        "colab": {}
      },
      "cell_type": "code",
      "source": [
        "\n",
        "!git clone  'TEST URL' #TBA\n",
        "  \n",
        "#path to zip\n",
        "local_zip =  'file name' #TBA\n",
        "\n",
        "\n",
        "#extract zip file\n",
        "zip_ref = zipfile.ZipFile(local_zip, 'r')\n",
        "zip_ref.extractall('/tmp')\n",
        "zip_ref.close()\n",
        "\n",
        "import os\n",
        "\n",
        "base_dir = '/tmp/' + 'UC_merced_test'\n",
        "\n",
        "#data directories\n",
        "test_dir = os.path.join(base_dir, 'test')\n",
        "\n"
      ],
      "execution_count": 0,
      "outputs": []
    },
    {
      "metadata": {
        "id": "a4OzmOSieqq3",
        "colab_type": "code",
        "colab": {}
      },
      "cell_type": "code",
      "source": [
        "test_generator = val_datagen.flow_from_directory(\n",
        "      test_dir, \n",
        "      target_size=(224, 224), #dit aanpassen indien nodig\n",
        "      batch_size=10,\n",
        "      class_mode='sparse',\n",
        "      shuffle=False)"
      ],
      "execution_count": 0,
      "outputs": []
    },
    {
      "metadata": {
        "id": "YHmzG4pwkJmZ",
        "colab_type": "code",
        "colab": {}
      },
      "cell_type": "code",
      "source": [
        "#hier kan je de code inzetten waarmee je de test data predict\n",
        "\n"
      ],
      "execution_count": 0,
      "outputs": []
    },
    {
      "metadata": {
        "id": "vQxvZjh8kOaM",
        "colab_type": "code",
        "colab": {}
      },
      "cell_type": "code",
      "source": [
        "#Code voor evaluatie metrics\n",
        "\n",
        "from sklearn.metrics import classification_report\n",
        "\n",
        "print(classification_report(y_test, y_pred, target_names=list(validation_generator.class_indices)))\n",
        "\n",
        "print('accuracy: ', np.mean(y_test == y_pred))"
      ],
      "execution_count": 0,
      "outputs": []
    }
  ]
}